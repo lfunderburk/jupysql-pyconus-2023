{
 "cells": [
  {
   "cell_type": "markdown",
   "id": "f1e40701",
   "metadata": {
    "slideshow": {
     "slide_type": "slide"
    }
   },
   "source": [
    "<h1 align='center'>iPython SQL: the beginning of SQL in iPython (and Jupyter) notebooks</h1>\n",
    "\n",
    "<h2 align='center'>Catherine Devlin</h2>"
   ]
  },
  {
   "cell_type": "markdown",
   "id": "ca8f1c91",
   "metadata": {
    "slideshow": {
     "slide_type": "slide"
    }
   },
   "source": [
    "<h1 align='center'>Humiliation</h1>\n",
    "\n",
    "<h2 align='center'>The Mother of Invention</h2>"
   ]
  },
  {
   "cell_type": "markdown",
   "id": "e5577886-7159-4f65-81bb-3fbd9728a6e2",
   "metadata": {
    "tags": []
   },
   "source": [
    "![ipython-sql query screenshot](ipython-sql.png)"
   ]
  },
  {
   "cell_type": "markdown",
   "id": "c942ad91",
   "metadata": {
    "slideshow": {
     "slide_type": "slide"
    }
   },
   "source": [
    "<h1 align='center'>IPython + SQLAlchemy == Magic</h1>"
   ]
  },
  {
   "cell_type": "markdown",
   "id": "9d1e6a24-1aba-460f-9d63-80285dbfb7fd",
   "metadata": {
    "tags": []
   },
   "source": [
    "<h1 align='center'>Ipython 2013 << Jupyter 2023</h1>"
   ]
  },
  {
   "cell_type": "markdown",
   "id": "f934aae1",
   "metadata": {
    "slideshow": {
     "slide_type": "slide"
    }
   },
   "source": [
    "<h1 align='center'>JupySQL: improving SQL in Jupyter</h1>\n",
    "\n",
    "<h2 align='center'>Laura Funderburk</h2>\n",
    "\n",
    "<img src='jupysql.jpeg' align='center' width=300px></img>"
   ]
  },
  {
   "cell_type": "markdown",
   "id": "d11f0350",
   "metadata": {
    "slideshow": {
     "slide_type": "slide"
    }
   },
   "source": [
    "### Pre requisites\n",
    "\n",
    "```bash\n",
    "pip install jupysql duckdb-engine\n",
    "```"
   ]
  },
  {
   "cell_type": "code",
   "execution_count": null,
   "id": "bccfedeb",
   "metadata": {
    "slideshow": {
     "slide_type": "fragment"
    }
   },
   "outputs": [],
   "source": [
    "# and some extras\n",
    "%pip install jupysql duckdb-engine seaborn matplotlib ipywidgets --quiet"
   ]
  },
  {
   "cell_type": "markdown",
   "id": "9ffb9e7c",
   "metadata": {
    "slideshow": {
     "slide_type": "slide"
    }
   },
   "source": [
    "### Load extension"
   ]
  },
  {
   "cell_type": "code",
   "execution_count": 1,
   "id": "45d66da7",
   "metadata": {
    "slideshow": {
     "slide_type": "fragment"
    }
   },
   "outputs": [],
   "source": [
    "%load_ext sql"
   ]
  },
  {
   "cell_type": "markdown",
   "id": "09c796d6",
   "metadata": {
    "slideshow": {
     "slide_type": "slide"
    }
   },
   "source": [
    "### Initializing a DuckDB instance"
   ]
  },
  {
   "cell_type": "code",
   "execution_count": 2,
   "id": "4f2bc6af",
   "metadata": {
    "slideshow": {
     "slide_type": "fragment"
    }
   },
   "outputs": [],
   "source": [
    "%sql duckdb://"
   ]
  },
  {
   "cell_type": "markdown",
   "id": "5b353625",
   "metadata": {
    "slideshow": {
     "slide_type": "slide"
    }
   },
   "source": [
    "### Perform queries - directly from our CSV file!"
   ]
  },
  {
   "cell_type": "code",
   "execution_count": 3,
   "id": "c7483a04",
   "metadata": {
    "slideshow": {
     "slide_type": "fragment"
    }
   },
   "outputs": [
    {
     "name": "stdout",
     "output_type": "stream",
     "text": [
      "*  duckdb://\n",
      "Done.\n"
     ]
    },
    {
     "data": {
      "text/html": [
       "<table>\n",
       "    <thead>\n",
       "        <tr>\n",
       "            <th>Customer_Loyalty_ID</th>\n",
       "            <th>Gender</th>\n",
       "            <th>Geographic_Region</th>\n",
       "            <th>Loyalty_Status</th>\n",
       "            <th>Neigborhood_Cluster-55_Level</th>\n",
       "            <th>Neighborhood_Cluster-7_Level</th>\n",
       "            <th>Television_Region</th>\n",
       "            <th>Affluence_Grade</th>\n",
       "            <th>Age</th>\n",
       "            <th>Frequency</th>\n",
       "            <th>Frequency_Percent</th>\n",
       "            <th>Loyalty_Card_Tenure</th>\n",
       "            <th>Organics_Purchase_Count</th>\n",
       "            <th>Organics_Purchase_Indicator</th>\n",
       "            <th>Total_Spend</th>\n",
       "        </tr>\n",
       "    </thead>\n",
       "    <tbody>\n",
       "        <tr>\n",
       "            <td>140</td>\n",
       "            <td>U</td>\n",
       "            <td>Midlands</td>\n",
       "            <td>Gold</td>\n",
       "            <td>16.0</td>\n",
       "            <td>C</td>\n",
       "            <td>Wales & West</td>\n",
       "            <td>10.0</td>\n",
       "            <td>76.0</td>\n",
       "            <td>1</td>\n",
       "            <td>None</td>\n",
       "            <td>4</td>\n",
       "            <td>0</td>\n",
       "            <td>0</td>\n",
       "            <td>16000.0</td>\n",
       "        </tr>\n",
       "        <tr>\n",
       "            <td>620</td>\n",
       "            <td>U</td>\n",
       "            <td>Midlands</td>\n",
       "            <td>Gold</td>\n",
       "            <td>35.0</td>\n",
       "            <td>D</td>\n",
       "            <td>Wales & West</td>\n",
       "            <td>4.0</td>\n",
       "            <td>49.0</td>\n",
       "            <td>1</td>\n",
       "            <td>None</td>\n",
       "            <td>5</td>\n",
       "            <td>0</td>\n",
       "            <td>0</td>\n",
       "            <td>6000.0</td>\n",
       "        </tr>\n",
       "        <tr>\n",
       "            <td>868</td>\n",
       "            <td>F</td>\n",
       "            <td>Midlands</td>\n",
       "            <td>Silver</td>\n",
       "            <td>27.0</td>\n",
       "            <td>D</td>\n",
       "            <td>Wales & West</td>\n",
       "            <td>5.0</td>\n",
       "            <td>70.0</td>\n",
       "            <td>1</td>\n",
       "            <td>None</td>\n",
       "            <td>8</td>\n",
       "            <td>1</td>\n",
       "            <td>1</td>\n",
       "            <td>0.02</td>\n",
       "        </tr>\n",
       "        <tr>\n",
       "            <td>1120</td>\n",
       "            <td>M</td>\n",
       "            <td>Midlands</td>\n",
       "            <td>Tin</td>\n",
       "            <td>51.0</td>\n",
       "            <td>F</td>\n",
       "            <td>Midlands</td>\n",
       "            <td>10.0</td>\n",
       "            <td>65.0</td>\n",
       "            <td>1</td>\n",
       "            <td>None</td>\n",
       "            <td>7</td>\n",
       "            <td>1</td>\n",
       "            <td>1</td>\n",
       "            <td>0.01</td>\n",
       "        </tr>\n",
       "        <tr>\n",
       "            <td>2313</td>\n",
       "            <td>F</td>\n",
       "            <td>Midlands</td>\n",
       "            <td>Tin</td>\n",
       "            <td>4.0</td>\n",
       "            <td>A</td>\n",
       "            <td>Midlands</td>\n",
       "            <td>11.0</td>\n",
       "            <td>68.0</td>\n",
       "            <td>1</td>\n",
       "            <td>None</td>\n",
       "            <td>8</td>\n",
       "            <td>0</td>\n",
       "            <td>0</td>\n",
       "            <td>0.01</td>\n",
       "        </tr>\n",
       "    </tbody>\n",
       "</table>"
      ],
      "text/plain": [
       "[(140, 'U', 'Midlands', 'Gold', 16.0, 'C', 'Wales & West', 10.0, 76.0, 1, None, '4', 0, 0, 16000.0),\n",
       " (620, 'U', 'Midlands', 'Gold', 35.0, 'D', 'Wales & West', 4.0, 49.0, 1, None, '5', 0, 0, 6000.0),\n",
       " (868, 'F', 'Midlands', 'Silver', 27.0, 'D', 'Wales & West', 5.0, 70.0, 1, None, '8', 1, 1, 0.02),\n",
       " (1120, 'M', 'Midlands', 'Tin', 51.0, 'F', 'Midlands', 10.0, 65.0, 1, None, '7', 1, 1, 0.01),\n",
       " (2313, 'F', 'Midlands', 'Tin', 4.0, 'A', 'Midlands', 11.0, 68.0, 1, None, '8', 0, 0, 0.01)]"
      ]
     },
     "execution_count": 3,
     "metadata": {},
     "output_type": "execute_result"
    }
   ],
   "source": [
    "%%sql\n",
    "SELECT * FROM organics_cleaned.csv LIMIT 5"
   ]
  },
  {
   "cell_type": "markdown",
   "id": "ca627dbb",
   "metadata": {
    "slideshow": {
     "slide_type": "slide"
    }
   },
   "source": [
    "### Data profiling "
   ]
  },
  {
   "cell_type": "code",
   "execution_count": 4,
   "id": "30bf6427",
   "metadata": {
    "slideshow": {
     "slide_type": "fragment"
    }
   },
   "outputs": [
    {
     "data": {
      "text/html": [
       "<table>\n",
       "    <thead>\n",
       "        <tr>\n",
       "            <th> </th>\n",
       "            <th>Customer_Loyalty_ID</th>\n",
       "            <th>Gender</th>\n",
       "            <th>Geographic_Region</th>\n",
       "            <th>Loyalty_Status</th>\n",
       "            <th>Neigborhood_Cluster-55_Level</th>\n",
       "            <th>Neighborhood_Cluster-7_Level</th>\n",
       "            <th>Television_Region</th>\n",
       "            <th>Affluence_Grade</th>\n",
       "            <th>Age</th>\n",
       "            <th>Frequency</th>\n",
       "            <th>Frequency_Percent</th>\n",
       "            <th>Loyalty_Card_Tenure</th>\n",
       "            <th>Organics_Purchase_Count</th>\n",
       "            <th>Organics_Purchase_Indicator</th>\n",
       "            <th>Total_Spend</th>\n",
       "        </tr>\n",
       "    </thead>\n",
       "    <tbody>\n",
       "        <tr>\n",
       "            <td>unique</td>\n",
       "            <td>18696</td>\n",
       "            <td>3</td>\n",
       "            <td>5</td>\n",
       "            <td>4</td>\n",
       "            <td></td>\n",
       "            <td></td>\n",
       "            <td>12</td>\n",
       "            <td>33</td>\n",
       "            <td>62</td>\n",
       "            <td>1</td>\n",
       "            <td>0</td>\n",
       "            <td>39</td>\n",
       "            <td>4</td>\n",
       "            <td>2</td>\n",
       "            <td>2287</td>\n",
       "        </tr>\n",
       "        <tr>\n",
       "            <td>top</td>\n",
       "            <td>159522</td>\n",
       "            <td>F</td>\n",
       "            <td>South East</td>\n",
       "            <td>Silver</td>\n",
       "            <td></td>\n",
       "            <td></td>\n",
       "            <td>London</td>\n",
       "            <td>8.0</td>\n",
       "            <td>51.0</td>\n",
       "            <td>1</td>\n",
       "            <td>None</td>\n",
       "            <td>5</td>\n",
       "            <td>0</td>\n",
       "            <td>0</td>\n",
       "            <td>0.01</td>\n",
       "        </tr>\n",
       "        <tr>\n",
       "            <td>std</td>\n",
       "            <td>15049822.39504687</td>\n",
       "            <td>nan</td>\n",
       "            <td>nan</td>\n",
       "            <td>nan</td>\n",
       "            <td>nan</td>\n",
       "            <td>nan</td>\n",
       "            <td>nan</td>\n",
       "            <td>3.444e+00</td>\n",
       "            <td>1.326e+01</td>\n",
       "            <td>0.0</td>\n",
       "            <td>nan</td>\n",
       "            <td>nan</td>\n",
       "            <td>5.761e-01</td>\n",
       "            <td>4.422e-01</td>\n",
       "            <td>7.463e+03</td>\n",
       "        </tr>\n",
       "        <tr>\n",
       "            <td>min</td>\n",
       "            <td>140</td>\n",
       "            <td>F</td>\n",
       "            <td>Midlands</td>\n",
       "            <td>Gold</td>\n",
       "            <td></td>\n",
       "            <td></td>\n",
       "            <td>Border</td>\n",
       "            <td>0.0</td>\n",
       "            <td>18.0</td>\n",
       "            <td>1</td>\n",
       "            <td>None</td>\n",
       "            <td>.</td>\n",
       "            <td>0</td>\n",
       "            <td>0</td>\n",
       "            <td>0.01</td>\n",
       "        </tr>\n",
       "        <tr>\n",
       "            <td>mean</td>\n",
       "            <td>26018475.649604194</td>\n",
       "            <td>nan</td>\n",
       "            <td>nan</td>\n",
       "            <td>nan</td>\n",
       "            <td>nan</td>\n",
       "            <td>nan</td>\n",
       "            <td>nan</td>\n",
       "            <td>8.763e+00</td>\n",
       "            <td>5.368e+01</td>\n",
       "            <td>1.0</td>\n",
       "            <td>nan</td>\n",
       "            <td>nan</td>\n",
       "            <td>3.166e-01</td>\n",
       "            <td>2.667e-01</td>\n",
       "            <td>4.403e+03</td>\n",
       "        </tr>\n",
       "        <tr>\n",
       "            <td>max</td>\n",
       "            <td>52838096</td>\n",
       "            <td>U</td>\n",
       "            <td>South West</td>\n",
       "            <td>Tin</td>\n",
       "            <td></td>\n",
       "            <td></td>\n",
       "            <td>Yorkshire</td>\n",
       "            <td>34.0</td>\n",
       "            <td>79.0</td>\n",
       "            <td>1</td>\n",
       "            <td>None</td>\n",
       "            <td>9</td>\n",
       "            <td>3</td>\n",
       "            <td>1</td>\n",
       "            <td>296313.85</td>\n",
       "        </tr>\n",
       "        <tr>\n",
       "            <td>freq</td>\n",
       "            <td>1</td>\n",
       "            <td>11509</td>\n",
       "            <td>7525</td>\n",
       "            <td>7205</td>\n",
       "            <td></td>\n",
       "            <td></td>\n",
       "            <td>5393</td>\n",
       "            <td>2194</td>\n",
       "            <td>525</td>\n",
       "            <td>18696</td>\n",
       "            <td>0</td>\n",
       "            <td>3681</td>\n",
       "            <td>13710</td>\n",
       "            <td>13710</td>\n",
       "            <td>5506</td>\n",
       "        </tr>\n",
       "        <tr>\n",
       "            <td>count</td>\n",
       "            <td>18696</td>\n",
       "            <td>18696</td>\n",
       "            <td>18696</td>\n",
       "            <td>18696</td>\n",
       "            <td></td>\n",
       "            <td></td>\n",
       "            <td>18696</td>\n",
       "            <td>17786</td>\n",
       "            <td>17440</td>\n",
       "            <td>18696</td>\n",
       "            <td>0</td>\n",
       "            <td>18696</td>\n",
       "            <td>18696</td>\n",
       "            <td>18696</td>\n",
       "            <td>18696</td>\n",
       "        </tr>\n",
       "        <tr>\n",
       "            <td>75%</td>\n",
       "            <td>37342599.0</td>\n",
       "            <td>nan</td>\n",
       "            <td>nan</td>\n",
       "            <td>nan</td>\n",
       "            <td>nan</td>\n",
       "            <td>nan</td>\n",
       "            <td>nan</td>\n",
       "            <td>11.0</td>\n",
       "            <td>64.0</td>\n",
       "            <td>1.0</td>\n",
       "            <td>nan</td>\n",
       "            <td>nan</td>\n",
       "            <td>1.0</td>\n",
       "            <td>1.0</td>\n",
       "            <td>6000.0</td>\n",
       "        </tr>\n",
       "        <tr>\n",
       "            <td>50%</td>\n",
       "            <td>28720326.0</td>\n",
       "            <td>nan</td>\n",
       "            <td>nan</td>\n",
       "            <td>nan</td>\n",
       "            <td>nan</td>\n",
       "            <td>nan</td>\n",
       "            <td>nan</td>\n",
       "            <td>8.0</td>\n",
       "            <td>54.0</td>\n",
       "            <td>1.0</td>\n",
       "            <td>nan</td>\n",
       "            <td>nan</td>\n",
       "            <td>0.0</td>\n",
       "            <td>0.0</td>\n",
       "            <td>2000.0</td>\n",
       "        </tr>\n",
       "        <tr>\n",
       "            <td>25%</td>\n",
       "            <td>11679530.0</td>\n",
       "            <td>nan</td>\n",
       "            <td>nan</td>\n",
       "            <td>nan</td>\n",
       "            <td>nan</td>\n",
       "            <td>nan</td>\n",
       "            <td>nan</td>\n",
       "            <td>6.0</td>\n",
       "            <td>44.0</td>\n",
       "            <td>1.0</td>\n",
       "            <td>nan</td>\n",
       "            <td>nan</td>\n",
       "            <td>0.0</td>\n",
       "            <td>0.0</td>\n",
       "            <td>0.01</td>\n",
       "        </tr>\n",
       "    </tbody>\n",
       "</table>"
      ],
      "text/plain": [
       "+--------+---------------------+--------+-------------------+----------------+------------------------------+------------------------------+-------------------+-----------------+-----------+-----------+-------------------+---------------------+-------------------------+-----------------------------+-------------+\n",
       "|        | Customer_Loyalty_ID | Gender | Geographic_Region | Loyalty_Status | Neigborhood_Cluster-55_Level | Neighborhood_Cluster-7_Level | Television_Region | Affluence_Grade |    Age    | Frequency | Frequency_Percent | Loyalty_Card_Tenure | Organics_Purchase_Count | Organics_Purchase_Indicator | Total_Spend |\n",
       "+--------+---------------------+--------+-------------------+----------------+------------------------------+------------------------------+-------------------+-----------------+-----------+-----------+-------------------+---------------------+-------------------------+-----------------------------+-------------+\n",
       "| unique |        18696        |   3    |         5         |       4        |                              |                              |         12        |        33       |     62    |     1     |         0         |          39         |            4            |              2              |     2287    |\n",
       "|  top   |        159522       |   F    |     South East    |     Silver     |                              |                              |       London      |       8.0       |    51.0   |     1     |        None       |          5          |            0            |              0              |     0.01    |\n",
       "|  std   |  15049822.39504687  |  nan   |        nan        |      nan       |             nan              |             nan              |        nan        |    3.444e+00    | 1.326e+01 |    0.0    |        nan        |         nan         |        5.761e-01        |          4.422e-01          |  7.463e+03  |\n",
       "|  min   |         140         |   F    |      Midlands     |      Gold      |                              |                              |       Border      |       0.0       |    18.0   |     1     |        None       |          .          |            0            |              0              |     0.01    |\n",
       "|  mean  |  26018475.649604194 |  nan   |        nan        |      nan       |             nan              |             nan              |        nan        |    8.763e+00    | 5.368e+01 |    1.0    |        nan        |         nan         |        3.166e-01        |          2.667e-01          |  4.403e+03  |\n",
       "|  max   |       52838096      |   U    |     South West    |      Tin       |                              |                              |     Yorkshire     |       34.0      |    79.0   |     1     |        None       |          9          |            3            |              1              |  296313.85  |\n",
       "|  freq  |          1          | 11509  |        7525       |      7205      |                              |                              |        5393       |       2194      |    525    |   18696   |         0         |         3681        |          13710          |            13710            |     5506    |\n",
       "| count  |        18696        | 18696  |       18696       |     18696      |                              |                              |       18696       |      17786      |   17440   |   18696   |         0         |        18696        |          18696          |            18696            |    18696    |\n",
       "|  75%   |      37342599.0     |  nan   |        nan        |      nan       |             nan              |             nan              |        nan        |       11.0      |    64.0   |    1.0    |        nan        |         nan         |           1.0           |             1.0             |    6000.0   |\n",
       "|  50%   |      28720326.0     |  nan   |        nan        |      nan       |             nan              |             nan              |        nan        |       8.0       |    54.0   |    1.0    |        nan        |         nan         |           0.0           |             0.0             |    2000.0   |\n",
       "|  25%   |      11679530.0     |  nan   |        nan        |      nan       |             nan              |             nan              |        nan        |       6.0       |    44.0   |    1.0    |        nan        |         nan         |           0.0           |             0.0             |     0.01    |\n",
       "+--------+---------------------+--------+-------------------+----------------+------------------------------+------------------------------+-------------------+-----------------+-----------+-----------+-------------------+---------------------+-------------------------+-----------------------------+-------------+"
      ]
     },
     "execution_count": 4,
     "metadata": {},
     "output_type": "execute_result"
    }
   ],
   "source": [
    "%sqlcmd profile --table \"organics_cleaned.csv\""
   ]
  },
  {
   "cell_type": "markdown",
   "id": "87a9919a",
   "metadata": {
    "slideshow": {
     "slide_type": "slide"
    }
   },
   "source": [
    "### Interact implementation and parametrization\n",
    "\n",
    "Pass `--interact` to enable widget\n",
    "\n",
    "Pass `--save` to save the table for future use"
   ]
  },
  {
   "cell_type": "code",
   "execution_count": 5,
   "id": "307a3ede",
   "metadata": {
    "slideshow": {
     "slide_type": "fragment"
    }
   },
   "outputs": [],
   "source": [
    "threshold = 0"
   ]
  },
  {
   "cell_type": "code",
   "execution_count": 6,
   "id": "14302f45",
   "metadata": {
    "slideshow": {
     "slide_type": "fragment"
    }
   },
   "outputs": [
    {
     "name": "stdout",
     "output_type": "stream",
     "text": [
      "Interactive mode, please interact with below widget(s) to control the variable\n"
     ]
    },
    {
     "data": {
      "application/vnd.jupyter.widget-view+json": {
       "model_id": "2ee57c57d5354f81a0c3f3a088a1d955",
       "version_major": 2,
       "version_minor": 0
      },
      "text/plain": [
       "interactive(children=(IntSlider(value=0, description='threshold', max=1), Output()), _dom_classes=('widget-int…"
      ]
     },
     "metadata": {},
     "output_type": "display_data"
    }
   ],
   "source": [
    "%%sql --interact threshold --save spend_insights\n",
    "SELECT Television_Region, COUNT(*) as NUM_Purchases\n",
    "FROM organics_cleaned.csv\n",
    "WHERE Organics_Purchase_Indicator = 1\n",
    "GROUP BY Television_Region\n",
    "HAVING COUNT(*) >= {{threshold}}"
   ]
  },
  {
   "cell_type": "markdown",
   "id": "bf9b0028",
   "metadata": {
    "slideshow": {
     "slide_type": "slide"
    }
   },
   "source": [
    "### ggplot integration\n",
    "\n",
    "```\n",
    "(\n",
    "    ggplot(table='sql_table_name', mapping=aes(x='table_column_name'))\n",
    "    +\n",
    "    geom_func() # geom_histogram or geom_boxplot (required)\n",
    "    +\n",
    "    facet_func() # facet_wrap (optional)\n",
    ")\n",
    "\n",
    "```"
   ]
  },
  {
   "cell_type": "code",
   "execution_count": 7,
   "id": "c2054d3c",
   "metadata": {
    "slideshow": {
     "slide_type": "fragment"
    }
   },
   "outputs": [],
   "source": [
    "from sql.ggplot import ggplot, aes, geom_boxplot, geom_histogram, facet_wrap"
   ]
  },
  {
   "cell_type": "code",
   "execution_count": 8,
   "id": "d0a43a99",
   "metadata": {
    "slideshow": {
     "slide_type": "subslide"
    }
   },
   "outputs": [
    {
     "data": {
      "text/plain": [
       "<sql.ggplot.ggplot.ggplot at 0x7f9909d35810>"
      ]
     },
     "execution_count": 8,
     "metadata": {},
     "output_type": "execute_result"
    },
    {
     "data": {
      "image/png": "[encoded data removed]",
      "text/plain": [
       "<Figure size 640x480 with 1 Axes>"
      ]
     },
     "metadata": {},
     "output_type": "display_data"
    }
   ],
   "source": [
    "(\n",
    "    ggplot(table='organics_cleaned.csv', mapping=aes(x='Total_Spend'))\n",
    "    +\n",
    "    geom_boxplot()\n",
    ")"
   ]
  },
  {
   "cell_type": "code",
   "execution_count": 9,
   "id": "3ee88176",
   "metadata": {
    "slideshow": {
     "slide_type": "subslide"
    }
   },
   "outputs": [
    {
     "data": {
      "text/plain": [
       "<sql.ggplot.ggplot.ggplot at 0x7f9928b03fd0>"
      ]
     },
     "execution_count": 9,
     "metadata": {},
     "output_type": "execute_result"
    },
    {
     "data": {
      "image/png": "[encoded data removed]",
      "text/plain": [
       "<Figure size 640x480 with 1 Axes>"
      ]
     },
     "metadata": {},
     "output_type": "display_data"
    }
   ],
   "source": [
    "(\n",
    "    ggplot(table='spend_insights', with_='spend_insights', mapping=aes(x='NUM_Purchases'))\n",
    "    +\n",
    "    geom_boxplot()\n",
    ")\n"
   ]
  },
  {
   "cell_type": "markdown",
   "id": "20bda255",
   "metadata": {
    "slideshow": {
     "slide_type": "slide"
    }
   },
   "source": [
    "### More widget possibilities through parametrization"
   ]
  },
  {
   "cell_type": "code",
   "execution_count": 10,
   "id": "5b44e014",
   "metadata": {
    "slideshow": {
     "slide_type": "subslide"
    }
   },
   "outputs": [],
   "source": [
    "from ipywidgets import interact, interact_manual, IntSlider, Dropdown\n",
    "import seaborn as sns\n",
    "import matplotlib.pyplot as plt\n",
    "\n",
    "\n",
    "def get_organics_by_threshold(threshold):\n",
    "    global organics_by_threshold_df\n",
    "    query = f\"\"\"\n",
    "    SELECT Television_Region,COUNT(*) as NUM_Purchases\n",
    "    FROM organics_cleaned.csv\n",
    "    WHERE Organics_Purchase_Indicator = 1\n",
    "    GROUP BY Television_Region\n",
    "    HAVING COUNT(*) >= {threshold}\n",
    "    \"\"\"\n",
    "    print(\"Performing query\")\n",
    "    # Use JupySQL magic %sql to execute the query\n",
    "    result = %sql {{query}}\n",
    "    # Convert the result to a pandas DataFrame\n",
    "    organics_by_threshold_df = result.DataFrame().sort_values(by='NUM_Purchases')\n",
    "    display(organics_by_threshold_df)\n",
    "    fig = sns.barplot(data=organics_by_threshold_df,y='NUM_Purchases',x='Television_Region')\n",
    "    plt.xticks(rotation=90);\n",
    "    plt.show()\n",
    "    \n",
    "\n",
    "    \n",
    "# Create a variable for the threshold selection\n",
    "threshold_w= IntSlider(\n",
    "    min=0, max=1000, step=100, value=0,\n",
    "    description='Threshold:',\n",
    "    disabled=False,\n",
    ")\n"
   ]
  },
  {
   "cell_type": "code",
   "execution_count": 11,
   "id": "148e9b40",
   "metadata": {
    "slideshow": {
     "slide_type": "subslide"
    }
   },
   "outputs": [
    {
     "data": {
      "application/vnd.jupyter.widget-view+json": {
       "model_id": "1c4da28d1ad1473dbd21c31b4035435b",
       "version_major": 2,
       "version_minor": 0
      },
      "text/plain": [
       "interactive(children=(IntSlider(value=0, description='Threshold:', max=1000, step=100), Button(description='Ru…"
      ]
     },
     "metadata": {},
     "output_type": "display_data"
    }
   ],
   "source": [
    "# Use ipywidgets.interact_manual to create a dynamic interface\n",
    "interact_manual(get_organics_by_threshold, threshold=threshold_w);"
   ]
  },
  {
   "cell_type": "markdown",
   "id": "fa820caf",
   "metadata": {
    "slideshow": {
     "slide_type": "slide"
    }
   },
   "source": [
    "### Integrations\n",
    "\n",
    "JupySQL has integrations with the following\n",
    "\n",
    "- DuckDB\n",
    "- Pandas\n",
    "- Polars\n",
    "- MySQL\n",
    "- Microsoft SQL Server\n",
    "- MariaDB\n",
    "- Clickhouse\n",
    "- Mindsdb\n",
    "- PostgreSQL\n",
    "- QuestDB"
   ]
  }
 ],
 "metadata": {
  "celltoolbar": "Slideshow",
  "kernelspec": {
   "display_name": "Python 3 (ipykernel)",
   "language": "python",
   "name": "python3"
  },
  "language_info": {
   "codemirror_mode": {
    "name": "ipython",
    "version": 3
   },
   "file_extension": ".py",
   "mimetype": "text/x-python",
   "name": "python",
   "nbconvert_exporter": "python",
   "pygments_lexer": "ipython3",
   "version": "3.11.2"
  }
 },
 "nbformat": 4,
 "nbformat_minor": 5
}
